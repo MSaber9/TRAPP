{
 "cells": [
  {
   "cell_type": "markdown",
   "metadata": {},
   "source": [
    "## SEAMS 2019 demonstration of analysis"
   ]
  },
  {
   "cell_type": "code",
   "execution_count": 3,
   "metadata": {},
   "outputs": [
    {
     "data": {
      "image/png": "[encoded data removed]",
      "text/plain": [
       "<matplotlib.figure.Figure at 0x87177b8>"
      ]
     },
     "metadata": {
      "needs_background": "light"
     },
     "output_type": "display_data"
    },
    {
     "name": "stdout",
     "output_type": "stream",
     "text": [
      "************\n",
      "OVERHEAD\n",
      "************\n",
      "overhead > 3.5\n",
      "Average overhead is 1.8137343933\n",
      "Median overhead is 1.5554025413\n",
      "Variance of overhead is 0.806204203902\n",
      "************\n",
      "overhead > 1.2\n",
      "Average overhead is 1.82162777666\n",
      "Median overhead is 1.55298672757\n",
      "Variance of overhead is 0.853535085098\n",
      "************\n",
      "90% selfish\n",
      "Average overhead is 1.8137343933\n",
      "Median overhead is 1.5554025413\n",
      "Variance of overhead is 0.806204203902\n",
      "************\n",
      "-0.155317589391\n",
      "0.0\n"
     ]
    }
   ],
   "source": [
    "%matplotlib inline  \n",
    "import matplotlib as mpl\n",
    "import matplotlib.pyplot as plt\n",
    "from statistics import mean, median, variance \n",
    "plt.rcParams['figure.figsize'] = [10, 5]\n",
    "import pprint\n",
    "\n",
    "def get_overheads(file_name):\n",
    "    data = []\n",
    "    with open(file_name, 'r') as results:\n",
    "        for line in results:\n",
    "            line = line.split(\",\")\n",
    "            trip_duration = float(line[4])\n",
    "            overhead = float(line[6])\n",
    "            agent = line[7]\n",
    "            preference = line[8].replace('\\r', '').replace('\\n', '')\n",
    "            \n",
    "            data.append(overhead)\n",
    "    return data\n",
    "\n",
    "#overheads_100percent_selfish = get_overheads(\"data/overheads-b1.csv\")\n",
    "#overheads_0percent_selfish = get_overheads(\"data/overheads-b0.csv\")\n",
    "#overheads_90percent_selfish = get_overheads(\"data/overheads-b0.9.csv\")\n",
    "\n",
    "overheads_100percent_selfish = get_overheads(\"data/overheads.csv\")\n",
    "overheads_0percent_selfish = get_overheads(\"data/overheads-1.csv\")\n",
    "overheads_90percent_selfish = get_overheads(\"data/overheads.csv\")\n",
    "\n",
    "\n",
    "overheads = []\n",
    "overheads.append(overheads_100percent_selfish)\n",
    "overheads.append(overheads_0percent_selfish)\n",
    "overheads.append(overheads_90percent_selfish)\n",
    "\n",
    "labels = []\n",
    "labels.append(\"overhead > 3.5\")\n",
    "labels.append(\"overhead > 1.2\")\n",
    "labels.append(\"90% selfish\")\n",
    "\n",
    "plt.figure()\n",
    "plt.boxplot(overheads, labels=labels)\n",
    "plt.show()\n",
    "\n",
    "print(\"************\")\n",
    "print(\"OVERHEAD\")\n",
    "print(\"************\")\n",
    "for i in range(len(overheads)):   \n",
    "    print(\"%s\" % (labels[i]))\n",
    "    print(\"Average overhead is % s\" % (mean(overheads[i]))) \n",
    "    print(\"Median overhead is % s\" % (median(overheads[i]))) \n",
    "    print(\"Variance of overhead is % s\" % (variance(overheads[i]))) \n",
    "    print(\"************\")\n",
    "    \n",
    "\n",
    "baseline = median(overheads_100percent_selfish)\n",
    "diff_percentage_0 = ((median(overheads_0percent_selfish) - baseline) / baseline) * 100\n",
    "diff_percentage_90 = ((median(overheads_90percent_selfish) - baseline) / baseline) * 100\n",
    "\n",
    "print diff_percentage_0\n",
    "print diff_percentage_90"
   ]
  },
  {
   "cell_type": "code",
   "execution_count": 4,
   "metadata": {},
   "outputs": [
    {
     "data": {
      "image/png": "[encoded data removed]",
      "text/plain": [
       "<matplotlib.figure.Figure at 0x4204940>"
      ]
     },
     "metadata": {
      "needs_background": "light"
     },
     "output_type": "display_data"
    },
    {
     "name": "stdout",
     "output_type": "stream",
     "text": [
      "************\n",
      "STREET UTILIZATION\n",
      "************\n",
      "100% selfish\n",
      "Average street utilization is 0.0288739622081\n",
      "Median street utilization is 0.00937446735981\n",
      "Variance of street utilization is 0.00353028430038\n",
      "************\n",
      "0% selfish\n",
      "Average street utilization is 0.0292431353922\n",
      "Median street utilization is 0.00932835820896\n",
      "Variance of street utilization is 0.00381722190993\n",
      "************\n",
      "90% selfish\n",
      "Average street utilization is 0.0292431353922\n",
      "Median street utilization is 0.00932835820896\n",
      "Variance of street utilization is 0.00381722190993\n",
      "************\n",
      "8.12788957302\n",
      "8.12788957302\n"
     ]
    }
   ],
   "source": [
    "def get_utilizations(file_name):\n",
    "    utilizations = []\n",
    "    line_no = 0\n",
    "        \n",
    "    with open(file_name, 'r') as results:\n",
    "        for line in results:\n",
    "            line = line.split(\",\")\n",
    "            line[len(line)-1] = line[len(line)-1].replace('\\r', '').replace('\\n', '')\n",
    "            line_no = line_no + 1\n",
    "            if line_no == 1:\n",
    "                edges = line\n",
    "            else: \n",
    "                utilizations.append([float(u) for u in line[1:]])   \n",
    "    \n",
    "    streets_data = {}\n",
    "    for i in range(len(edges)):\n",
    "        streets_data[edges[i]] = [utilization[i] for utilization in utilizations]\n",
    "\n",
    "    streets_utilizations = {}\n",
    "    for key, value in streets_data.iteritems():\n",
    "        streets_utilizations[key] = mean(value)\n",
    "    \n",
    "    return streets_utilizations\n",
    "\n",
    "# streets_100percent_selfish = get_utilizations(\"data/streets-b1.csv\")\n",
    "# streets_0percent_selfish = get_utilizations(\"data/streets-b0.csv\")\n",
    "# streets_90percent_selfish = get_utilizations(\"data/streets-b0.9.csv\")\n",
    "\n",
    "streets_100percent_selfish = get_utilizations(\"data/streets.csv\")\n",
    "streets_0percent_selfish = get_utilizations(\"data/streets-1.csv\")\n",
    "streets_90percent_selfish = get_utilizations(\"data/streets-1.csv\")\n",
    "\n",
    "streets = []\n",
    "streets.append(streets_100percent_selfish.values())\n",
    "streets.append(streets_0percent_selfish.values())\n",
    "streets.append(streets_90percent_selfish.values())\n",
    "\n",
    "labels = []\n",
    "labels.append(\"100% selfish\")\n",
    "labels.append(\"0% selfish\")\n",
    "labels.append(\"90% selfish\")\n",
    "\n",
    "plt.figure()\n",
    "plt.boxplot(streets, labels=labels)\n",
    "plt.show()\n",
    "\n",
    "print(\"************\")\n",
    "print(\"STREET UTILIZATION\")\n",
    "print(\"************\")\n",
    "for i in range(len(streets)):   \n",
    "    print(\"%s\" % (labels[i]))\n",
    "    print(\"Average street utilization is % s\" % (mean(streets[i]))) \n",
    "    print(\"Median street utilization is % s\" % (median(streets[i]))) \n",
    "    print(\"Variance of street utilization is % s\" % (variance(streets[i]))) \n",
    "    print(\"************\")\n",
    "    \n",
    "baseline = variance(streets_100percent_selfish.values())\n",
    "diff_percentage_0 = ((variance(streets_0percent_selfish.values()) - baseline) / baseline) * 100\n",
    "diff_percentage_90 = ((variance(streets_90percent_selfish.values()) - baseline) / baseline) * 100\n",
    "\n",
    "print diff_percentage_0\n",
    "print diff_percentage_90"
   ]
  },
  {
   "cell_type": "code",
   "execution_count": null,
   "metadata": {
    "collapsed": true
   },
   "outputs": [],
   "source": []
  }
 ],
 "metadata": {
  "anaconda-cloud": {},
  "kernelspec": {
   "display_name": "Python 2",
   "language": "python",
   "name": "python2"
  },
  "language_info": {
   "codemirror_mode": {
    "name": "ipython",
    "version": 2
   },
   "file_extension": ".py",
   "mimetype": "text/x-python",
   "name": "python",
   "nbconvert_exporter": "python",
   "pygments_lexer": "ipython2",
   "version": "2.7.16"
  }
 },
 "nbformat": 4,
 "nbformat_minor": 1
}
