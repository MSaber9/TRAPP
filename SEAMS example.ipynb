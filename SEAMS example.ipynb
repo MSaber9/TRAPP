{
 "cells": [
  {
   "cell_type": "markdown",
   "metadata": {},
   "source": [
    "## SEAMS 2019 demonstration of analysis"
   ]
  },
  {
   "cell_type": "code",
   "execution_count": 1,
   "metadata": {
    "collapsed": false
   },
   "outputs": [
    {
     "data": {
      "image/png": "[encoded data removed]",
      "text/plain": [
       "<matplotlib.figure.Figure at 0x103bce950>"
      ]
     },
     "metadata": {},
     "output_type": "display_data"
    },
    {
     "name": "stdout",
     "output_type": "stream",
     "text": [
      "************\n",
      "STATS\n",
      "************\n",
      "Average overhead for 100 percent selfish is 1.66659886516\n",
      "Average overhead for 90 percent selfish is  1.68381181374\n",
      "************\n",
      "Median overhead for 100 percent selfish is 1.45109502428\n",
      "Median overhead for 90 percent selfish is  1.46310334542\n",
      "************\n",
      "Variance of overhead for 100 percent selfish is 0.532677038575\n",
      "Variance of overhead for 90 percent selfish is  0.546884936789\n"
     ]
    }
   ],
   "source": [
    "%matplotlib inline  \n",
    "import matplotlib as mpl\n",
    "import matplotlib.pyplot as plt\n",
    "from statistics import mean, median, variance \n",
    "plt.rcParams['figure.figsize'] = [10, 5]\n",
    "import pprint\n",
    "\n",
    "def get_overheads(file_name):\n",
    "    data = []\n",
    "    with open(file_name, 'r') as results:\n",
    "        for line in results:\n",
    "            line = line.split(\",\")\n",
    "            trip_duration = float(line[4])\n",
    "            overhead = float(line[6])\n",
    "            agent = line[7]\n",
    "            preference = line[8].replace('\\r', '').replace('\\n', '')\n",
    "            \n",
    "            data.append(overhead)\n",
    "    return data\n",
    "\n",
    "overheads_100percent_selfish = get_overheads(\"data/overheads-1.csv\")\n",
    "overheads_90percent_selfish = get_overheads(\"data/overheads.csv\")\n",
    "\n",
    "plt.figure()\n",
    "plt.boxplot([overheads_100percent_selfish, overheads_90percent_selfish], labels=[\"100% selfish\", \"90% selfish\"])\n",
    "plt.show()\n",
    "\n",
    "print(\"************\")\n",
    "print(\"STATS\")\n",
    "print(\"************\")\n",
    "print(\"Average overhead for 100 percent selfish is % s\" % (mean(overheads_100percent_selfish))) \n",
    "print(\"Average overhead for 90 percent selfish is  % s\" % (mean(overheads_90percent_selfish))) \n",
    "print(\"************\")\n",
    "print(\"Median overhead for 100 percent selfish is % s\" % (median(overheads_100percent_selfish))) \n",
    "print(\"Median overhead for 90 percent selfish is  % s\" % (median(overheads_90percent_selfish))) \n",
    "print(\"************\")\n",
    "print(\"Variance of overhead for 100 percent selfish is % s\" % (variance(overheads_100percent_selfish))) \n",
    "print(\"Variance of overhead for 90 percent selfish is  % s\" % (variance(overheads_90percent_selfish))) \n"
   ]
  },
  {
   "cell_type": "code",
   "execution_count": 2,
   "metadata": {
    "collapsed": false
   },
   "outputs": [
    {
     "data": {
      "image/png": "[encoded data removed]",
      "text/plain": [
       "<matplotlib.figure.Figure at 0x103c05890>"
      ]
     },
     "metadata": {},
     "output_type": "display_data"
    },
    {
     "name": "stdout",
     "output_type": "stream",
     "text": [
      "************\n",
      "STATS\n",
      "************\n",
      "Average street utilization for 100 percent selfish is 0.0293518782507\n",
      "Average street utilization for 90 percent selfish is  0.0292434260939\n",
      "************\n",
      "Median street utilization for 100 percent selfish is 0.00894683026585\n",
      "Median street utilization for 90 percent selfish is  0.00894164459198\n",
      "************\n",
      "Variance of street utilization for 100 percent selfish is 0.00342567483454\n",
      "Variance of street utilization for 90 percent selfish is  0.00338920180366\n"
     ]
    }
   ],
   "source": [
    "def get_utilizations(file_name):\n",
    "    utilizations = []\n",
    "    line_no = 0\n",
    "        \n",
    "    with open(file_name, 'r') as results:\n",
    "        for line in results:\n",
    "            line = line.split(\",\")\n",
    "            line[len(line)-1] = line[len(line)-1].replace('\\r', '').replace('\\n', '')\n",
    "            line_no = line_no + 1\n",
    "            if line_no == 1:\n",
    "                edges = line\n",
    "            else: \n",
    "                utilizations.append([float(u) for u in line[1:]])   \n",
    "    \n",
    "    streets_data = {}\n",
    "    for i in range(len(edges)):\n",
    "        streets_data[edges[i]] = [utilization[i] for utilization in utilizations]\n",
    "\n",
    "    streets_utilizations = {}\n",
    "    for key, value in streets_data.iteritems():\n",
    "        streets_utilizations[key] = mean(value)\n",
    "    \n",
    "    return streets_utilizations\n",
    "\n",
    "streets_100percent_selfish = get_utilizations(\"data/streets-1.csv\")\n",
    "streets_90percent_selfish = get_utilizations(\"data/streets.csv\")\n",
    "\n",
    "plt.figure()\n",
    "plt.boxplot([streets_100percent_selfish.values(), streets_90percent_selfish.values()], labels=[\"100% selfish\", \"90% selfish\"])\n",
    "plt.show()\n",
    "\n",
    "print(\"************\")\n",
    "print(\"STATS\")\n",
    "print(\"************\")\n",
    "print(\"Average street utilization for 100 percent selfish is % s\" % (mean(streets_100percent_selfish.values()))) \n",
    "print(\"Average street utilization for 90 percent selfish is  % s\" % (mean(streets_90percent_selfish.values()))) \n",
    "print(\"************\")\n",
    "print(\"Median street utilization for 100 percent selfish is % s\" % (median(streets_100percent_selfish.values()))) \n",
    "print(\"Median street utilization for 90 percent selfish is  % s\" % (median(streets_90percent_selfish.values()))) \n",
    "print(\"************\")\n",
    "print(\"Variance of street utilization for 100 percent selfish is % s\" % (variance(streets_100percent_selfish.values()))) \n",
    "print(\"Variance of street utilization for 90 percent selfish is  % s\" % (variance(streets_90percent_selfish.values()))) "
   ]
  },
  {
   "cell_type": "code",
   "execution_count": null,
   "metadata": {
    "collapsed": true
   },
   "outputs": [],
   "source": []
  }
 ],
 "metadata": {
  "anaconda-cloud": {},
  "kernelspec": {
   "display_name": "Python [Root]",
   "language": "python",
   "name": "Python [Root]"
  },
  "language_info": {
   "codemirror_mode": {
    "name": "ipython",
    "version": 2
   },
   "file_extension": ".py",
   "mimetype": "text/x-python",
   "name": "python",
   "nbconvert_exporter": "python",
   "pygments_lexer": "ipython2",
   "version": "2.7.12"
  }
 },
 "nbformat": 4,
 "nbformat_minor": 0
}
