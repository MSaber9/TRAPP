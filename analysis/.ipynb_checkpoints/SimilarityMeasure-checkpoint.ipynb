{
 "cells": [
  {
   "cell_type": "code",
   "execution_count": 1,
   "metadata": {},
   "outputs": [],
   "source": [
    "def convertToArray(planLine):\n",
    "    planstring = planLine.split(':')[1].replace('\\n', '')\n",
    "    nodesStr = planstring.split(',')\n",
    "    nodes = map(float, nodesStr)\n",
    "    return nodes\n",
    "\n",
    "# print the plans for visualization purpose\n",
    "# plan2dArr: 2D numpy array containing plans\n",
    "# tipe: type in which elements of array should be typecasted\n",
    "def printPlans(plan2dArr, tipe):\n",
    "    print('S1: %s' % plan2dArr[0].astype(tipe))\n",
    "    print('S2: %s' % plan2dArr[1].astype(tipe))\n",
    "    print('S3: %s' % plan2dArr[2].astype(tipe))"
   ]
  },
  {
   "cell_type": "code",
   "execution_count": 2,
   "metadata": {},
   "outputs": [
    {
     "name": "stdout",
     "output_type": "stream",
     "text": [
      "Length of plans\n",
      "(26, 26, 26)\n"
     ]
    }
   ],
   "source": [
    "import numpy\n",
    "# Read plan file and save the tree rows of plans in the filePlan Array\n",
    "\n",
    "#filePath = \"../datasets/plans/agent_0.plans\"\n",
    "filePath = \"./testSimilarityData.csv\"\n",
    "\n",
    "filePlans = []\n",
    "with open(filePath, 'r') as planFile:\n",
    "    for line in planFile:\n",
    "        numPlans = convertToArray(line)\n",
    "        filePlans.append(numpy.asarray(numPlans))\n",
    "\n",
    "numpy.asarray(filePlans)\n",
    "print(\"Length of plans\")\n",
    "print(len(filePlans[0]),len(filePlans[1]),len(filePlans[2]))"
   ]
  },
  {
   "cell_type": "code",
   "execution_count": 10,
   "metadata": {},
   "outputs": [
    {
     "name": "stdout",
     "output_type": "stream",
     "text": [
      "S1: [9 9 9 9 9 9 9 9 9 9 9 9 8 8 8 8 8 8 8 8 8 8 8 8 8 8]\n",
      "S2: [1 2 3 5 5 5 5 7 7 7 7 0 0 0 0 0 0 0 0 0 0 0 1 1 1 1]\n",
      "S3: [1 2 3 5 4 5 5 7 7 7 7 0 0 0 0 3 3 0 0 0 0 0 1 2 1 0]\n",
      "Entropy\n",
      "---------------------\n",
      "low entropy means low divergence between two distribution\n",
      "Hence more similarity\n",
      "('entropy between s1 and s2', 3.875014587211739)\n",
      "('entropy between s1 and s3', 3.52680591480412)\n",
      "('entropy between s2 and s3', 0.24873459765422487)\n"
     ]
    }
   ],
   "source": [
    "from scipy.stats import entropy\n",
    "\n",
    "def calculateEntropy():\n",
    "    printPlans(filePlans, int)\n",
    "    plan0 = map(lambda x: 0.0001 if x == 0 else x, filePlans[0]);\n",
    "    plan1 = map(lambda x: 0.0001 if x == 0 else x, filePlans[1]);\n",
    "    plan2 = map(lambda x: 0.0001 if x == 0 else x, filePlans[2]);\n",
    "    print(\"Entropy\")\n",
    "    print('---------------------')\n",
    "    print('low entropy means low divergence between two distribution')\n",
    "    print('Hence more similarity')\n",
    "    e1 = entropy(plan0, plan1)\n",
    "    print(\"entropy between s1 and s2\", e1)\n",
    "    e2 = entropy(plan0, plan2)\n",
    "    print(\"entropy between s1 and s3\", e2)\n",
    "    e3 = entropy(plan1, plan2)\n",
    "    print(\"entropy between s2 and s3\", e3)\n",
    "    \n",
    "    \n",
    "calculateEntropy()"
   ]
  },
  {
   "cell_type": "code",
   "execution_count": 11,
   "metadata": {},
   "outputs": [
    {
     "name": "stdout",
     "output_type": "stream",
     "text": [
      "S1: [9 9 9 9 9 9 9 9 9 9 9 9 8 8 8 8 8 8 8 8 8 8 8 8 8 8]\n",
      "S2: [1 2 3 5 5 5 5 7 7 7 7 0 0 0 0 0 0 0 0 0 0 0 1 1 1 1]\n",
      "S3: [1 2 3 5 4 5 5 7 7 7 7 0 0 0 0 3 3 0 0 0 0 0 1 2 1 0]\n",
      "------------------------------------\n",
      "EUCLIDEAN DISTANCES BETWEEN 3 ARRAYS\n",
      "------------------------------------\n",
      "s1-s2| 33.852622\n",
      "s1-s3| 32.848135\n",
      "s2-s3| 4.582576\n"
     ]
    }
   ],
   "source": [
    "from sklearn.metrics.pairwise import euclidean_distances\n",
    "\n",
    "def calculateEuclideanDistance():\n",
    "    printPlans(filePlans, int)\n",
    "    d1 = euclidean_distances(filePlans[0].reshape(1, -1), filePlans[1].reshape(1,-1))\n",
    "    d2 = euclidean_distances(filePlans[0].reshape(1, -1), filePlans[2].reshape(1,-1))\n",
    "    d3 = euclidean_distances(filePlans[1].reshape(1, -1), filePlans[2].reshape(1,-1))\n",
    "    print('------------------------------------')\n",
    "    print('EUCLIDEAN DISTANCES BETWEEN 3 ARRAYS')\n",
    "    print('------------------------------------')\n",
    "    print('s1-s2| %f' % d1)\n",
    "    print('s1-s3| %f' % d2)\n",
    "    print('s2-s3| %f' % d3)\n",
    "    \n",
    "calculateEuclideanDistance()"
   ]
  },
  {
   "cell_type": "code",
   "execution_count": 12,
   "metadata": {},
   "outputs": [
    {
     "name": "stdout",
     "output_type": "stream",
     "text": [
      "S1: [9 9 9 9 9 9 9 9 9 9 9 9 8 8 8 8 8 8 8 8 8 8 8 8 8 8]\n",
      "S2: [1 2 3 5 5 5 5 7 7 7 7 0 0 0 0 0 0 0 0 0 0 0 1 1 1 1]\n",
      "S3: [1 2 3 5 4 5 5 7 7 7 7 0 0 0 0 3 3 0 0 0 0 0 1 2 1 0]\n",
      "------------------------------------\n",
      "COSINE SIMILARITY BETWEEN 3 ARRAYS\n",
      "------------------------------------\n",
      "Cosine similarity [0-1].\n",
      "1 means two vactors are with same orientation\n",
      "0 means two vaectos are at 90 degrees and have similarity of 0\n",
      "------------------------------------\n",
      "s1-s2| 0.676358\n",
      "s1-s3| 0.714867\n",
      "s2-s3| 0.967279\n",
      "------------------------------------\n",
      "s1-s2| 67.635780% similar\n",
      "s1-s3| 71.486672% similar\n",
      "s2-s3| 96.727948% similar\n"
     ]
    }
   ],
   "source": [
    "from sklearn.metrics.pairwise import cosine_similarity\n",
    "\n",
    "def calculateCosineSimilarity():\n",
    "    printPlans(filePlans, int)\n",
    "    d1 = cosine_similarity(filePlans[0].reshape(1, -1), filePlans[1].reshape(1,-1))\n",
    "    d2 = cosine_similarity(filePlans[0].reshape(1, -1), filePlans[2].reshape(1,-1))\n",
    "    d3 = cosine_similarity(filePlans[1].reshape(1, -1), filePlans[2].reshape(1,-1))\n",
    "    print('------------------------------------')\n",
    "    print('COSINE SIMILARITY BETWEEN 3 ARRAYS')\n",
    "    print('------------------------------------')\n",
    "    print('Cosine similarity [0-1].')\n",
    "    print('1 means two vactors are with same orientation')\n",
    "    print('0 means two vaectos are at 90 degrees and have similarity of 0')\n",
    "    print('------------------------------------')\n",
    "    print('s1-s2| %f' % d1)\n",
    "    print('s1-s3| %f' % d2)\n",
    "    print('s2-s3| %f' % d3)\n",
    "    print('------------------------------------')\n",
    "    print('s1-s2| %f%% similar' % (d1 * 100))\n",
    "    print('s1-s3| %f%% similar' % (d2 * 100))\n",
    "    print('s2-s3| %f%% similar' % (d3 * 100))\n",
    "    \n",
    "calculateCosineSimilarity()"
   ]
  },
  {
   "cell_type": "code",
   "execution_count": 13,
   "metadata": {},
   "outputs": [
    {
     "name": "stdout",
     "output_type": "stream",
     "text": [
      "S1: [9 9 9 9 9 9 9 9 9 9 9 9 8 8 8 8 8 8 8 8 8 8 8 8 8 8]\n",
      "S2: [1 2 3 5 5 5 5 7 7 7 7 0 0 0 0 0 0 0 0 0 0 0 1 1 1 1]\n",
      "S3: [1 2 3 5 4 5 5 7 7 7 7 0 0 0 0 3 3 0 0 0 0 0 1 2 1 0]\n",
      "------------------------------------\n",
      "COSINE DISTANCES BETWEEN 3 ARRAYS\n",
      "Cosine distance is 1 - cosine similarity\n",
      "------------------------------------\n",
      "s1-s2| 0.323642\n",
      "s1-s3| 0.285133\n",
      "s2-s3| 0.032721\n"
     ]
    }
   ],
   "source": [
    "from sklearn.metrics.pairwise import cosine_distances\n",
    "\n",
    "def calculateCosineDistances():\n",
    "    printPlans(filePlans, int)\n",
    "    d1 = cosine_distances(filePlans[0].reshape(1, -1), filePlans[1].reshape(1,-1))\n",
    "    d2 = cosine_distances(filePlans[0].reshape(1, -1), filePlans[2].reshape(1,-1))\n",
    "    d3 = cosine_distances(filePlans[1].reshape(1, -1), filePlans[2].reshape(1,-1))\n",
    "    print('------------------------------------')\n",
    "    print('COSINE DISTANCES BETWEEN 3 ARRAYS')\n",
    "    print('Cosine distance is 1 - cosine similarity')\n",
    "    print('------------------------------------')\n",
    "    print('s1-s2| %f' % d1)\n",
    "    print('s1-s3| %f' % d2)\n",
    "    print('s2-s3| %f' % d3)\n",
    "    \n",
    "calculateCosineDistances()"
   ]
  },
  {
   "cell_type": "code",
   "execution_count": 14,
   "metadata": {},
   "outputs": [
    {
     "name": "stdout",
     "output_type": "stream",
     "text": [
      "[[ 0.    0.75]\n",
      " [ 1.    0.25]]\n",
      "------------------------------------\n",
      "PAIRWISE HAMMING DISTANCE BETWEEN X AND Y\n",
      "------------------------------------\n",
      "X1-Y1| 0.000000 | 100.000000% matched\n",
      "X1-Y2| 0.750000 | 25.000000% matched\n",
      "X2-Y1| 1.000000 | 0.000000% matched\n",
      "X2-Y2| 0.250000 | 75.000000% matched\n"
     ]
    }
   ],
   "source": [
    "from sklearn.metrics.pairwise import pairwise_distances\n",
    "\n",
    "def hammingDistanceExample():    \n",
    "    X = numpy.array([[1,2,3,4], [5,6,7,8]])\n",
    "    Y = numpy.array([[1,2,3,4], [1,6,7,8]])\n",
    "    d1 = pairwise_distances(X, Y, metric=\"hamming\")\n",
    "    print(d1)\n",
    "    print('------------------------------------')\n",
    "    print('PAIRWISE HAMMING DISTANCE BETWEEN X AND Y')\n",
    "    print('------------------------------------')\n",
    "    print('X1-Y1| %f | %f%% matched' % ( d1[0,0], (1-d1[0,0])*100 ))\n",
    "    print('X1-Y2| %f | %f%% matched' % ( d1[0,1], (1-d1[0,1])*100 ))\n",
    "    print('X2-Y1| %f | %f%% matched' % ( d1[1,0], (1-d1[1,0])*100 ))\n",
    "    print('X2-Y2| %f | %f%% matched' % ( d1[1,1], (1-d1[1,1])*100 ))\n",
    "    \n",
    "hammingDistanceExample()"
   ]
  },
  {
   "cell_type": "code",
   "execution_count": 15,
   "metadata": {},
   "outputs": [
    {
     "name": "stdout",
     "output_type": "stream",
     "text": [
      "S1: [9 9 9 9 9 9 9 9 9 9 9 9 8 8 8 8 8 8 8 8 8 8 8 8 8 8]\n",
      "S2: [1 2 3 5 5 5 5 7 7 7 7 0 0 0 0 0 0 0 0 0 0 0 1 1 1 1]\n",
      "S3: [1 2 3 5 4 5 5 7 7 7 7 0 0 0 0 3 3 0 0 0 0 0 1 2 1 0]\n",
      "------------------------------------\n",
      "PAIRED DISTANCES BETWEEN 3 ARRAYS\n",
      "bitwise matching\n",
      "finds at which position the bits are different\n",
      "------------------------------------\n",
      "s1-s2| 1.000000, 0.000000% matched\n",
      "s1-s3| 1.000000, 0.000000% matched\n",
      "s2-s3| 0.192308, 80.769231% matched\n"
     ]
    }
   ],
   "source": [
    "from sklearn.metrics.pairwise import pairwise_distances\n",
    "\n",
    "def calculateHammingDistance():    \n",
    "    printPlans(filePlans, int)\n",
    "    d1 = pairwise_distances(filePlans[0].reshape(1, -1), filePlans[1].reshape(1,-1), metric='hamming')\n",
    "    d2 = pairwise_distances(filePlans[0].reshape(1, -1), filePlans[2].reshape(1,-1), metric='hamming')\n",
    "    d3 = pairwise_distances(filePlans[1].reshape(1, -1), filePlans[2].reshape(1,-1), metric='hamming')\n",
    "    print('------------------------------------')\n",
    "    print('PAIRED DISTANCES BETWEEN 3 ARRAYS')\n",
    "    print('bitwise matching')\n",
    "    print('finds at which position the bits are different')\n",
    "    print('------------------------------------')\n",
    "    print('s1-s2| %f, %f%% matched' % (d1,(1-d1)*100) )\n",
    "    print('s1-s3| %f, %f%% matched' % (d2,(1-d2)*100) )\n",
    "    print('s2-s3| %f, %f%% matched' % (d3,(1-d3)*100) )\n",
    "    \n",
    "calculateHammingDistance()"
   ]
  },
  {
   "cell_type": "code",
   "execution_count": 21,
   "metadata": {},
   "outputs": [
    {
     "name": "stdout",
     "output_type": "stream",
     "text": [
      "S1: [9 9 9 9 9 9 9 9 9 9 9 9 8 8 8 8 8 8 8 8 8 8 8 8 8 8]\n",
      "S2: [1 2 3 5 5 5 5 7 7 7 7 0 0 0 0 0 0 0 0 0 0 0 1 1 1 1]\n",
      "S3: [1 2 3 5 4 5 5 7 7 7 7 0 0 0 0 3 3 0 0 0 0 0 1 2 1 0]\n",
      "------------------------------------\n",
      "JACCARD SIMILARITY BETWEEN 3 ARRAYS\n",
      "------------------------------------\n",
      "Jaccard similarity [0-1].\n",
      "------------------------------------\n",
      "s1-s2| 0.000000\n",
      "s1-s3| 0.000000\n",
      "s2-s3| 0.807692\n",
      "------------------------------------\n",
      "s1-s2| 0.000000% similar\n",
      "s1-s3| 0.000000% similar\n",
      "s2-s3| 80.769231% similar\n"
     ]
    }
   ],
   "source": [
    "from sklearn.metrics import jaccard_similarity_score as jss\n",
    "\n",
    "def JaccardSimilarity():\n",
    "    printPlans(filePlans, int)\n",
    "    d1 = jss(filePlans[0], filePlans[1])\n",
    "    d2 = jss(filePlans[0], filePlans[2])\n",
    "    d3 = jss(filePlans[1], filePlans[2])\n",
    "    print('------------------------------------')\n",
    "    print('JACCARD SIMILARITY BETWEEN 3 ARRAYS')\n",
    "    print('------------------------------------')\n",
    "    print('Jaccard similarity [0-1].')\n",
    "    print('------------------------------------')\n",
    "    print('s1-s2| %f' % d1)\n",
    "    print('s1-s3| %f' % d2)\n",
    "    print('s2-s3| %f' % d3)\n",
    "    print('------------------------------------')\n",
    "    print('s1-s2| %f%% similar' % (d1 * 100))\n",
    "    print('s1-s3| %f%% similar' % (d2 * 100))\n",
    "    print('s2-s3| %f%% similar' % (d3 * 100))\n",
    "    \n",
    "JaccardSimilarity()"
   ]
  }
 ],
 "metadata": {
  "kernelspec": {
   "display_name": "Python 2",
   "language": "python",
   "name": "python2"
  },
  "language_info": {
   "codemirror_mode": {
    "name": "ipython",
    "version": 2
   },
   "file_extension": ".py",
   "mimetype": "text/x-python",
   "name": "python",
   "nbconvert_exporter": "python",
   "pygments_lexer": "ipython2",
   "version": "2.7.16"
  }
 },
 "nbformat": 4,
 "nbformat_minor": 2
}
