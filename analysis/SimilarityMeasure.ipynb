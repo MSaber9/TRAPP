{
 "cells": [
  {
   "cell_type": "code",
   "execution_count": 27,
   "metadata": {},
   "outputs": [],
   "source": [
    "def convertToArray(planLine):\n",
    "    planstring = planLine.split(':')[1].replace('\\n', '')\n",
    "    nodesStr = planstring.split(',')\n",
    "    nodes = map(float, nodesStr)\n",
    "    return nodes\n",
    "\n",
    "# print the plans for visualization purpose\n",
    "# plan2dArr: 2D numpy array containing plans\n",
    "# tipe: type in which elements of array should be typecasted\n",
    "def printPlans(plan2dArr, tipe):\n",
    "    print('S1: %s' % plan2dArr[0].astype(tipe))\n",
    "    print('S2: %s' % plan2dArr[1].astype(tipe))\n",
    "    print('S3: %s' % plan2dArr[2].astype(tipe))"
   ]
  },
  {
   "cell_type": "code",
   "execution_count": 28,
   "metadata": {},
   "outputs": [
    {
     "name": "stdout",
     "output_type": "stream",
     "text": [
      "Length of plans\n",
      "(26, 26, 26)\n"
     ]
    }
   ],
   "source": [
    "import numpy\n",
    "# Read plan file and save the tree rows of plans in the filePlan Array\n",
    "\n",
    "filePath = \"../datasets/plans/agent_0.plans\"\n",
    "filePath = \"./testSimilarityData.csv\"\n",
    "\n",
    "filePlans = []\n",
    "with open(filePath, 'r') as planFile:\n",
    "    for line in planFile:\n",
    "        numPlans = convertToArray(line)\n",
    "        filePlans.append(numpy.asarray(numPlans))\n",
    "\n",
    "numpy.asarray(filePlans)\n",
    "print(\"Length of plans\")\n",
    "print(len(filePlans[0]),len(filePlans[1]),len(filePlans[2]))"
   ]
  },
  {
   "cell_type": "code",
   "execution_count": 29,
   "metadata": {
    "scrolled": true
   },
   "outputs": [
    {
     "name": "stdout",
     "output_type": "stream",
     "text": [
      "S1: [1 1 1 1 1 1 1 1 1 1 1 1 1 1 1 1 1 1 1 1 1 1 1 1 1 1]\n",
      "S2: [1 2 3 5 5 5 5 7 7 7 7 0 0 0 0 0 0 0 0 0 0 0 1 1 1 1]\n",
      "S3: [1 2 3 5 4 5 5 7 7 7 7 0 0 0 0 3 3 0 0 0 0 0 1 2 1 0]\n",
      "Entropy\n",
      "---------------------\n",
      "low entropy means low divergence between two distribution\n",
      "Hence more similarity\n",
      "('entropy between s1 and s2', 4.0831574523451168)\n",
      "('entropy between s2 and s1', 0.77253990488023006)\n",
      "('entropy between s1 and s3', 3.7090165150289556)\n",
      "('entropy between s2 and s3', 0.24873459765422487)\n"
     ]
    }
   ],
   "source": [
    "from scipy.stats import entropy\n",
    "\n",
    "def calculateEntropy():\n",
    "    printPlans(filePlans, int)\n",
    "    plan0 = map(lambda x: 0.0001 if x == 0 else x, filePlans[0]);\n",
    "    plan1 = map(lambda x: 0.0001 if x == 0 else x, filePlans[1]);\n",
    "    plan2 = map(lambda x: 0.0001 if x == 0 else x, filePlans[2]);\n",
    "    #plan0 = filePlans[0]\n",
    "    #plan1 = filePlans[1]\n",
    "    #plan2 = filePlans[2]\n",
    "    print(\"Entropy\")\n",
    "    print('---------------------')\n",
    "    print('low entropy means low divergence between two distribution')\n",
    "    print('Hence more similarity')\n",
    "    e1 = entropy(plan0, plan1)\n",
    "    print(\"entropy between s1 and s2\", e1)\n",
    "    e11 = myentropy(plan1, plan0)\n",
    "    print(\"entropy between s2 and s1\", e11)\n",
    "    e2 = entropy(plan0, plan2)\n",
    "    print(\"entropy between s1 and s3\", e2)\n",
    "    e3 = entropy(plan1, plan2)\n",
    "    print(\"entropy between s2 and s3\", e3)\n",
    "    \n",
    "    \n",
    "calculateEntropy()"
   ]
  },
  {
   "cell_type": "code",
   "execution_count": 31,
   "metadata": {},
   "outputs": [
    {
     "name": "stdout",
     "output_type": "stream",
     "text": [
      "S1: [1 1 1 1 1 1 1 1 1 1 1 1 1 1 1 1 1 1 1 1 1 1 1 1 1 1]\n",
      "S2: [1 2 3 5 5 5 5 7 7 7 7 0 0 0 0 0 0 0 0 0 0 0 1 1 1 1]\n",
      "S3: [1 2 3 5 4 5 5 7 7 7 7 0 0 0 0 3 3 0 0 0 0 0 1 2 1 0]\n",
      "Entropy\n",
      "---------------------\n",
      "low entropy means low divergence between two distribution\n",
      "Hence more similarity\n",
      "[ 0.03086021  0.0042007  -0.01139411 -0.03104125 -0.03104125 -0.03104125\n",
      " -0.03104125 -0.04398249 -0.04398249 -0.04398249 -0.04398249  0.38510407\n",
      "  0.38510407  0.38510407  0.38510407  0.38510407  0.38510407  0.38510407\n",
      "  0.38510407  0.38510407  0.38510407  0.38510407  0.03086021  0.03086021\n",
      "  0.03086021  0.03086021]\n",
      "('entropy between s1 and s2', 4.0831574523451168)\n",
      "[ -1.38336245e-02  -3.76607538e-03   1.53228224e-02   6.95738938e-02\n",
      "   6.95738938e-02   6.95738938e-02   6.95738938e-02   1.38011399e-01\n",
      "   1.38011399e-01   1.38011399e-01   1.38011399e-01  -1.72629585e-05\n",
      "  -1.72629585e-05  -1.72629585e-05  -1.72629585e-05  -1.72629585e-05\n",
      "  -1.72629585e-05  -1.72629585e-05  -1.72629585e-05  -1.72629585e-05\n",
      "  -1.72629585e-05  -1.72629585e-05  -1.38336245e-02  -1.38336245e-02\n",
      "  -1.38336245e-02  -1.38336245e-02]\n",
      "('entropy between s2 and s1', 0.77253990488023006)\n",
      "[ 0.03404054  0.00738103 -0.00821378 -0.02786092 -0.01927847 -0.02786092\n",
      " -0.02786092 -0.04080216 -0.04080216 -0.04080216 -0.04080216  0.3882844\n",
      "  0.3882844   0.3882844   0.3882844  -0.00821378 -0.00821378  0.3882844\n",
      "  0.3882844   0.3882844   0.3882844   0.3882844   0.03404054  0.00738103\n",
      "  0.03404054  0.3882844 ]\n",
      "('entropy between s1 and s3', 3.7090165150289556)\n",
      "[  1.42563888e-03   2.85127777e-03   4.27691665e-03   7.12819441e-03\n",
      "   2.63643426e-02   7.12819441e-03   7.12819441e-03   9.97947218e-03\n",
      "   9.97947218e-03   9.97947218e-03   9.97947218e-03   1.42563888e-07\n",
      "   1.42563888e-07   1.42563888e-07   1.42563888e-07  -1.76311553e-05\n",
      "  -1.76311553e-05   1.42563888e-07   1.42563888e-07   1.42563888e-07\n",
      "   1.42563888e-07   1.42563888e-07   1.42563888e-03  -1.05249479e-02\n",
      "   1.42563888e-03   1.60221599e-01]\n",
      "('entropy between s2 and s3', 0.24873459765422487)\n"
     ]
    }
   ],
   "source": [
    "from math import log\n",
    "\n",
    "def myentropy(pk, qk):\n",
    "    pk = numpy.asarray(pk)\n",
    "    pk = 1.0*pk / numpy.sum(pk, axis=0)\n",
    "    qk = numpy.asarray(qk)\n",
    "    if len(qk) != len(pk):\n",
    "        raise ValueError(\"qk and pk must have same length.\")\n",
    "    qk = 1.0*qk / numpy.sum(qk, axis=0)\n",
    "    #vec = rel_entr(pk, qk)\n",
    "    vec1 = numpy.zeros(len(pk))\n",
    "    for i in range(len(pk)):\n",
    "        vec1[i] = pk[i] * log(pk[i]/qk[i])\n",
    "    print vec1\n",
    "    S = numpy.sum(vec1, axis=0)\n",
    "    return S\n",
    "\n",
    "\n",
    "\n",
    "#plan0 = filePlans[0]\n",
    "#plan1 = filePlans[1]\n",
    "#plan2 = filePlans[2]\n",
    "printPlans(filePlans, int)\n",
    "plan0 = map(lambda x: 0.0001 if x == 0 else x, filePlans[0]);\n",
    "plan1 = map(lambda x: 0.0001 if x == 0 else x, filePlans[1]);\n",
    "plan2 = map(lambda x: 0.0001 if x == 0 else x, filePlans[2]);\n",
    "print(\"Entropy\")\n",
    "print('---------------------')\n",
    "print('low entropy means low divergence between two distribution')\n",
    "print('Hence more similarity')\n",
    "e1 = myentropy(plan0, plan1)\n",
    "print(\"entropy between s1 and s2\", e1)\n",
    "\n",
    "e11 = myentropy(plan1, plan0)\n",
    "print(\"entropy between s2 and s1\", e11)\n",
    "\n",
    "\n",
    "e2 = myentropy(plan0, plan2)\n",
    "print(\"entropy between s1 and s3\", e2)\n",
    "e3 = myentropy(plan1, plan2)\n",
    "print(\"entropy between s2 and s3\", e3)\n"
   ]
  },
  {
   "cell_type": "code",
   "execution_count": 11,
   "metadata": {},
   "outputs": [
    {
     "name": "stdout",
     "output_type": "stream",
     "text": [
      "S1: [9 9 9 9 9 9 9 9 9 9 9 9 8 8 8 8 8 8 8 8 8 8 8 8 8 8]\n",
      "S2: [1 2 3 5 5 5 5 7 7 7 7 0 0 0 0 0 0 0 0 0 0 0 1 1 1 1]\n",
      "S3: [1 2 3 5 4 5 5 7 7 7 7 0 0 0 0 3 3 0 0 0 0 0 1 2 1 0]\n",
      "------------------------------------\n",
      "EUCLIDEAN DISTANCES BETWEEN 3 ARRAYS\n",
      "------------------------------------\n",
      "s1-s2| 33.852622\n",
      "s1-s3| 32.848135\n",
      "s2-s3| 4.582576\n"
     ]
    }
   ],
   "source": [
    "from sklearn.metrics.pairwise import euclidean_distances\n",
    "\n",
    "def calculateEuclideanDistance():\n",
    "    printPlans(filePlans, int)\n",
    "    d1 = euclidean_distances(filePlans[0].reshape(1, -1), filePlans[1].reshape(1,-1))\n",
    "    d2 = euclidean_distances(filePlans[0].reshape(1, -1), filePlans[2].reshape(1,-1))\n",
    "    d3 = euclidean_distances(filePlans[1].reshape(1, -1), filePlans[2].reshape(1,-1))\n",
    "    print('------------------------------------')\n",
    "    print('EUCLIDEAN DISTANCES BETWEEN 3 ARRAYS')\n",
    "    print('------------------------------------')\n",
    "    print('s1-s2| %f' % d1)\n",
    "    print('s1-s3| %f' % d2)\n",
    "    print('s2-s3| %f' % d3)\n",
    "    \n",
    "calculateEuclideanDistance()"
   ]
  },
  {
   "cell_type": "code",
   "execution_count": 12,
   "metadata": {},
   "outputs": [
    {
     "name": "stdout",
     "output_type": "stream",
     "text": [
      "S1: [9 9 9 9 9 9 9 9 9 9 9 9 8 8 8 8 8 8 8 8 8 8 8 8 8 8]\n",
      "S2: [1 2 3 5 5 5 5 7 7 7 7 0 0 0 0 0 0 0 0 0 0 0 1 1 1 1]\n",
      "S3: [1 2 3 5 4 5 5 7 7 7 7 0 0 0 0 3 3 0 0 0 0 0 1 2 1 0]\n",
      "------------------------------------\n",
      "COSINE SIMILARITY BETWEEN 3 ARRAYS\n",
      "------------------------------------\n",
      "Cosine similarity [0-1].\n",
      "1 means two vactors are with same orientation\n",
      "0 means two vaectos are at 90 degrees and have similarity of 0\n",
      "------------------------------------\n",
      "s1-s2| 0.676358\n",
      "s1-s3| 0.714867\n",
      "s2-s3| 0.967279\n",
      "------------------------------------\n",
      "s1-s2| 67.635780% similar\n",
      "s1-s3| 71.486672% similar\n",
      "s2-s3| 96.727948% similar\n"
     ]
    }
   ],
   "source": [
    "from sklearn.metrics.pairwise import cosine_similarity\n",
    "\n",
    "def calculateCosineSimilarity():\n",
    "    printPlans(filePlans, int)\n",
    "    d1 = cosine_similarity(filePlans[0].reshape(1, -1), filePlans[1].reshape(1,-1))\n",
    "    d2 = cosine_similarity(filePlans[0].reshape(1, -1), filePlans[2].reshape(1,-1))\n",
    "    d3 = cosine_similarity(filePlans[1].reshape(1, -1), filePlans[2].reshape(1,-1))\n",
    "    print('------------------------------------')\n",
    "    print('COSINE SIMILARITY BETWEEN 3 ARRAYS')\n",
    "    print('------------------------------------')\n",
    "    print('Cosine similarity [0-1].')\n",
    "    print('1 means two vactors are with same orientation')\n",
    "    print('0 means two vaectos are at 90 degrees and have similarity of 0')\n",
    "    print('------------------------------------')\n",
    "    print('s1-s2| %f' % d1)\n",
    "    print('s1-s3| %f' % d2)\n",
    "    print('s2-s3| %f' % d3)\n",
    "    print('------------------------------------')\n",
    "    print('s1-s2| %f%% similar' % (d1 * 100))\n",
    "    print('s1-s3| %f%% similar' % (d2 * 100))\n",
    "    print('s2-s3| %f%% similar' % (d3 * 100))\n",
    "    \n",
    "calculateCosineSimilarity()"
   ]
  },
  {
   "cell_type": "code",
   "execution_count": 13,
   "metadata": {},
   "outputs": [
    {
     "name": "stdout",
     "output_type": "stream",
     "text": [
      "S1: [9 9 9 9 9 9 9 9 9 9 9 9 8 8 8 8 8 8 8 8 8 8 8 8 8 8]\n",
      "S2: [1 2 3 5 5 5 5 7 7 7 7 0 0 0 0 0 0 0 0 0 0 0 1 1 1 1]\n",
      "S3: [1 2 3 5 4 5 5 7 7 7 7 0 0 0 0 3 3 0 0 0 0 0 1 2 1 0]\n",
      "------------------------------------\n",
      "COSINE DISTANCES BETWEEN 3 ARRAYS\n",
      "Cosine distance is 1 - cosine similarity\n",
      "------------------------------------\n",
      "s1-s2| 0.323642\n",
      "s1-s3| 0.285133\n",
      "s2-s3| 0.032721\n"
     ]
    }
   ],
   "source": [
    "from sklearn.metrics.pairwise import cosine_distances\n",
    "\n",
    "def calculateCosineDistances():\n",
    "    printPlans(filePlans, int)\n",
    "    d1 = cosine_distances(filePlans[0].reshape(1, -1), filePlans[1].reshape(1,-1))\n",
    "    d2 = cosine_distances(filePlans[0].reshape(1, -1), filePlans[2].reshape(1,-1))\n",
    "    d3 = cosine_distances(filePlans[1].reshape(1, -1), filePlans[2].reshape(1,-1))\n",
    "    print('------------------------------------')\n",
    "    print('COSINE DISTANCES BETWEEN 3 ARRAYS')\n",
    "    print('Cosine distance is 1 - cosine similarity')\n",
    "    print('------------------------------------')\n",
    "    print('s1-s2| %f' % d1)\n",
    "    print('s1-s3| %f' % d2)\n",
    "    print('s2-s3| %f' % d3)\n",
    "    \n",
    "calculateCosineDistances()"
   ]
  },
  {
   "cell_type": "code",
   "execution_count": 14,
   "metadata": {},
   "outputs": [
    {
     "name": "stdout",
     "output_type": "stream",
     "text": [
      "[[ 0.    0.75]\n",
      " [ 1.    0.25]]\n",
      "------------------------------------\n",
      "PAIRWISE HAMMING DISTANCE BETWEEN X AND Y\n",
      "------------------------------------\n",
      "X1-Y1| 0.000000 | 100.000000% matched\n",
      "X1-Y2| 0.750000 | 25.000000% matched\n",
      "X2-Y1| 1.000000 | 0.000000% matched\n",
      "X2-Y2| 0.250000 | 75.000000% matched\n"
     ]
    }
   ],
   "source": [
    "from sklearn.metrics.pairwise import pairwise_distances\n",
    "\n",
    "def hammingDistanceExample():    \n",
    "    X = numpy.array([[1,2,3,4], [5,6,7,8]])\n",
    "    Y = numpy.array([[1,2,3,4], [1,6,7,8]])\n",
    "    d1 = pairwise_distances(X, Y, metric=\"hamming\")\n",
    "    print(d1)\n",
    "    print('------------------------------------')\n",
    "    print('PAIRWISE HAMMING DISTANCE BETWEEN X AND Y')\n",
    "    print('------------------------------------')\n",
    "    print('X1-Y1| %f | %f%% matched' % ( d1[0,0], (1-d1[0,0])*100 ))\n",
    "    print('X1-Y2| %f | %f%% matched' % ( d1[0,1], (1-d1[0,1])*100 ))\n",
    "    print('X2-Y1| %f | %f%% matched' % ( d1[1,0], (1-d1[1,0])*100 ))\n",
    "    print('X2-Y2| %f | %f%% matched' % ( d1[1,1], (1-d1[1,1])*100 ))\n",
    "    \n",
    "hammingDistanceExample()"
   ]
  },
  {
   "cell_type": "code",
   "execution_count": 5,
   "metadata": {},
   "outputs": [
    {
     "name": "stdout",
     "output_type": "stream",
     "text": [
      "S1: [9 9 9 9 9 9 9 9 9 9 9 9 8 8 8 8 8 8 8 8 8 8 8 8 8 8]\n",
      "S2: [1 2 3 5 5 5 5 7 7 7 7 0 0 0 0 0 0 0 0 0 0 0 1 1 1 1]\n",
      "S3: [1 2 3 5 4 5 5 7 7 7 7 0 0 0 0 3 3 0 0 0 0 0 1 2 1 0]\n",
      "------------------------------------\n",
      "PAIRED DISTANCES BETWEEN 3 ARRAYS\n",
      "bitwise matching\n",
      "finds at which position the bits are different\n",
      "------------------------------------\n",
      "s1-s2| 1.000000, 0.000000% matched\n",
      "s1-s3| 1.000000, 0.000000% matched\n",
      "s2-s3| 0.192308, 80.769231% matched\n"
     ]
    }
   ],
   "source": [
    "from sklearn.metrics.pairwise import pairwise_distances\n",
    "\n",
    "def calculateHammingDistance():    \n",
    "    printPlans(filePlans, int)\n",
    "    d1 = pairwise_distances(filePlans[0].reshape(1, -1), filePlans[1].reshape(1,-1), metric='hamming')\n",
    "    d2 = pairwise_distances(filePlans[0].reshape(1, -1), filePlans[2].reshape(1,-1), metric='hamming')\n",
    "    d3 = pairwise_distances(filePlans[1].reshape(1, -1), filePlans[2].reshape(1,-1), metric='hamming')\n",
    "    print('------------------------------------')\n",
    "    print('PAIRED DISTANCES BETWEEN 3 ARRAYS')\n",
    "    print('bitwise matching')\n",
    "    print('finds at which position the bits are different')\n",
    "    print('------------------------------------')\n",
    "    print('s1-s2| %f, %f%% matched' % (d1,(1-d1)*100) )\n",
    "    print('s1-s3| %f, %f%% matched' % (d2,(1-d2)*100) )\n",
    "    print('s2-s3| %f, %f%% matched' % (d3,(1-d3)*100) )\n",
    "    \n",
    "calculateHammingDistance()"
   ]
  },
  {
   "cell_type": "code",
   "execution_count": 21,
   "metadata": {},
   "outputs": [
    {
     "name": "stdout",
     "output_type": "stream",
     "text": [
      "S1: [9 9 9 9 9 9 9 9 9 9 9 9 8 8 8 8 8 8 8 8 8 8 8 8 8 8]\n",
      "S2: [1 2 3 5 5 5 5 7 7 7 7 0 0 0 0 0 0 0 0 0 0 0 1 1 1 1]\n",
      "S3: [1 2 3 5 4 5 5 7 7 7 7 0 0 0 0 3 3 0 0 0 0 0 1 2 1 0]\n",
      "------------------------------------\n",
      "JACCARD SIMILARITY BETWEEN 3 ARRAYS\n",
      "------------------------------------\n",
      "Jaccard similarity [0-1].\n",
      "------------------------------------\n",
      "s1-s2| 0.000000\n",
      "s1-s3| 0.000000\n",
      "s2-s3| 0.807692\n",
      "------------------------------------\n",
      "s1-s2| 0.000000% similar\n",
      "s1-s3| 0.000000% similar\n",
      "s2-s3| 80.769231% similar\n"
     ]
    }
   ],
   "source": [
    "from sklearn.metrics import jaccard_similarity_score as jss\n",
    "\n",
    "def JaccardSimilarity():\n",
    "    printPlans(filePlans, int)\n",
    "    d1 = jss(filePlans[0], filePlans[1])\n",
    "    d2 = jss(filePlans[0], filePlans[2])\n",
    "    d3 = jss(filePlans[1], filePlans[2])\n",
    "    print('------------------------------------')\n",
    "    print('JACCARD SIMILARITY BETWEEN 3 ARRAYS')\n",
    "    print('------------------------------------')\n",
    "    print('Jaccard similarity [0-1].')\n",
    "    print('------------------------------------')\n",
    "    print('s1-s2| %f' % d1)\n",
    "    print('s1-s3| %f' % d2)\n",
    "    print('s2-s3| %f' % d3)\n",
    "    print('------------------------------------')\n",
    "    print('s1-s2| %f%% similar' % (d1 * 100))\n",
    "    print('s1-s3| %f%% similar' % (d2 * 100))\n",
    "    print('s2-s3| %f%% similar' % (d3 * 100))\n",
    "    \n",
    "JaccardSimilarity()"
   ]
  }
 ],
 "metadata": {
  "kernelspec": {
   "display_name": "Python 2",
   "language": "python",
   "name": "python2"
  },
  "language_info": {
   "codemirror_mode": {
    "name": "ipython",
    "version": 2
   },
   "file_extension": ".py",
   "mimetype": "text/x-python",
   "name": "python",
   "nbconvert_exporter": "python",
   "pygments_lexer": "ipython2",
   "version": "2.7.15"
  }
 },
 "nbformat": 4,
 "nbformat_minor": 2
}
